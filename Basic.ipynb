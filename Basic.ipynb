{
  "nbformat": 4,
  "nbformat_minor": 0,
  "metadata": {
    "colab": {
      "provenance": [],
      "collapsed_sections": [
        "uO2UQHOkrJ11",
        "ECGQ-juA9khK",
        "RSTsv6Hi-MYB",
        "GiGA1GNVEC4J",
        "4vuAR78HNdaT"
      ]
    },
    "kernelspec": {
      "name": "python3",
      "display_name": "Python 3"
    },
    "language_info": {
      "name": "python"
    }
  },
  "cells": [
    {
      "cell_type": "markdown",
      "source": [
        "# **Steps**\n",
        "1.Create, Compile, Fit Model\n",
        "\n",
        "2.Plot\n",
        "\n",
        "3.Evaluate"
      ],
      "metadata": {
        "id": "uO2UQHOkrJ11"
      }
    },
    {
      "cell_type": "code",
      "source": [
        "import tensorflow as tf\n",
        "import numpy as np\n",
        "import matplotlib.pyplot as plt\n",
        "from google.colab import drive\n",
        "drive.mount('drive')"
      ],
      "metadata": {
        "id": "pBgbFhS9rq6A",
        "colab": {
          "base_uri": "https://localhost:8080/"
        },
        "outputId": "d8dd87dc-52ff-4314-de2d-6be27264eaa2"
      },
      "execution_count": 96,
      "outputs": [
        {
          "output_type": "stream",
          "name": "stdout",
          "text": [
            "Drive already mounted at drive; to attempt to forcibly remount, call drive.mount(\"drive\", force_remount=True).\n"
          ]
        }
      ]
    },
    {
      "cell_type": "code",
      "source": [
        "#data\n",
        "X=tf.range(-1000,1000,5)\n",
        "y=X+15\n",
        "plt.figure(figsize=(15,8))\n",
        "plt.scatter(X,y)"
      ],
      "metadata": {
        "colab": {
          "base_uri": "https://localhost:8080/",
          "height": 0
        },
        "id": "nfh0YRx0rZL1",
        "outputId": "35cb1cca-ccec-458f-e62a-6016057f8ea5"
      },
      "execution_count": 97,
      "outputs": [
        {
          "output_type": "execute_result",
          "data": {
            "text/plain": [
              "<matplotlib.collections.PathCollection at 0x7fb0effbdd90>"
            ]
          },
          "metadata": {},
          "execution_count": 97
        },
        {
          "output_type": "display_data",
          "data": {
            "text/plain": [
              "<Figure size 1080x576 with 1 Axes>"
            ],
            "image/png": "[encoded data removed]"
          },
          "metadata": {
            "needs_background": "light"
          }
        }
      ]
    },
    {
      "cell_type": "code",
      "source": [
        "#3sets\n",
        "print(len(X))\n",
        "X_train=X[:280]\n",
        "X_test=X[280:]\n",
        "\n",
        "y_train=y[:280]\n",
        "y_test=y[280:]"
      ],
      "metadata": {
        "colab": {
          "base_uri": "https://localhost:8080/"
        },
        "id": "kQRfXjPFs7mj",
        "outputId": "d2e9e074-f2ce-4106-9922-d3690bb2a33e"
      },
      "execution_count": 98,
      "outputs": [
        {
          "output_type": "stream",
          "name": "stdout",
          "text": [
            "400\n"
          ]
        }
      ]
    },
    {
      "cell_type": "code",
      "source": [
        "plt.figure(figsize=(15,8))\n",
        "plt.scatter(X_train,y_train,c=\"g\",label=\"train\")\n",
        "plt.scatter(X_test,y_test, c=\"b\",label=\"test\")\n",
        "plt.legend()"
      ],
      "metadata": {
        "colab": {
          "base_uri": "https://localhost:8080/",
          "height": 0
        },
        "id": "vM1xlgFcuQQr",
        "outputId": "f22d21da-433a-4fc4-f5ec-8d1135aaa227"
      },
      "execution_count": 99,
      "outputs": [
        {
          "output_type": "execute_result",
          "data": {
            "text/plain": [
              "<matplotlib.legend.Legend at 0x7fb0ec23f430>"
            ]
          },
          "metadata": {},
          "execution_count": 99
        },
        {
          "output_type": "display_data",
          "data": {
            "text/plain": [
              "<Figure size 1080x576 with 1 Axes>"
            ],
            "image/png": "[encoded data removed]"
          },
          "metadata": {
            "needs_background": "light"
          }
        }
      ]
    },
    {
      "cell_type": "code",
      "source": [
        "#Plot\n",
        "def Plot(X_train,y_train,X_test,y_test,y_pred): \n",
        "  plt.figure(figsize=(15,8))\n",
        "  plt.scatter(X_train,y_train,c=\"g\",label=\"train\")\n",
        "  plt.scatter(X_test,y_test, c=\"b\",label=\"test\")\n",
        "  plt.scatter(X_test,y_pred, c=\"r\",label=\"Prediction\")\n",
        "  plt.legend();"
      ],
      "metadata": {
        "id": "m8oOaqOl9vUa"
      },
      "execution_count": 100,
      "outputs": []
    },
    {
      "cell_type": "code",
      "source": [
        "#Evaluation\n",
        "def evaluation(y_test,y_pred):\n",
        "  mae = tf.metrics.mean_absolute_error(y_true=y_test, \n",
        "                                     y_pred=y_pred)\n",
        "  mse = tf.metrics.mean_squared_error(y_true=y_test,\n",
        "                                    y_pred=y_pred)\n",
        "  return(np.array([mae,mse]))"
      ],
      "metadata": {
        "id": "JM2D2qP7As_0"
      },
      "execution_count": 101,
      "outputs": []
    },
    {
      "cell_type": "markdown",
      "source": [
        "Creating types of model\n",
        "1.   Original- 1 layer x 1 100 epoch SGD\n",
        "2.   Model_1- 1 layer x 1 100 epoch Adam\n",
        "3.   Model_2-1 layer x 1- 500 epoch Adam\n",
        "4.   Model_3-2 layer x 100 100 epoch Adam\n",
        "5.   Model_4-2 layer x100 500 epoch Adam\n",
        "6.   Model_4-2 layer 10,100 100 epoch Adam"
      ],
      "metadata": {
        "id": "wE3f_5Dev8WP"
      }
    },
    {
      "cell_type": "markdown",
      "source": [
        "# Orignal Model"
      ],
      "metadata": {
        "id": "ECGQ-juA9khK"
      }
    },
    {
      "cell_type": "code",
      "source": [
        "#Original\n",
        "#Creating a model\n",
        "\n",
        "tf.random.set_seed(42)\n",
        "original=tf.keras.Sequential([\n",
        "    tf.keras.layers.Dense(1)\n",
        "])\n",
        "#Compile\n",
        "original.compile(loss=tf.keras.losses.mae,\n",
        "                 optimizer=tf.keras.optimizers.SGD(),\n",
        "                 metrics=[\"mae\"])\n",
        "#Fit\n",
        "original.fit(tf.expand_dims(X_train,axis=-1),y_train,epochs=100,verbose=0)\n",
        "\n",
        "y_pred=original.predict(X_test)\n",
        "y_pred=tf.squeeze(tf.constant(y_pred))"
      ],
      "metadata": {
        "colab": {
          "base_uri": "https://localhost:8080/"
        },
        "id": "o7t6ByY7vLnv",
        "outputId": "25588d96-9e06-4885-dbe3-6802cb2ef841"
      },
      "execution_count": 102,
      "outputs": [
        {
          "output_type": "stream",
          "name": "stdout",
          "text": [
            "4/4 [==============================] - 0s 3ms/step\n"
          ]
        }
      ]
    },
    {
      "cell_type": "code",
      "source": [
        "#Plot\n",
        "Plot(X_train,y_train,X_test,y_test,y_pred)"
      ],
      "metadata": {
        "colab": {
          "base_uri": "https://localhost:8080/",
          "height": 483
        },
        "id": "L95jKB2G2Odw",
        "outputId": "58e8b3c2-c3d2-4fab-93bf-a04b9de96471"
      },
      "execution_count": 103,
      "outputs": [
        {
          "output_type": "display_data",
          "data": {
            "text/plain": [
              "<Figure size 1080x576 with 1 Axes>"
            ],
            "image/png": "[encoded data removed]"
          },
          "metadata": {
            "needs_background": "light"
          }
        }
      ]
    },
    {
      "cell_type": "code",
      "source": [
        "Eva=[[\"MAE\",\"MSE\"]]\n",
        "eval=evaluation(y_test,y_pred)\n",
        "Eva.append(eval)\n",
        "print(eval)"
      ],
      "metadata": {
        "id": "PEAIrlTHGJui",
        "colab": {
          "base_uri": "https://localhost:8080/"
        },
        "outputId": "279ab568-f5b9-4f23-fe91-4975e846ccd8"
      },
      "execution_count": 104,
      "outputs": [
        {
          "output_type": "stream",
          "name": "stdout",
          "text": [
            "[1.5966985e+03 2.7037600e+06]\n"
          ]
        }
      ]
    },
    {
      "cell_type": "markdown",
      "source": [
        "# Model_1"
      ],
      "metadata": {
        "id": "RSTsv6Hi-MYB"
      }
    },
    {
      "cell_type": "code",
      "source": [
        "#Model1\n",
        "#Creating a model\n",
        "model_1=tf.keras.Sequential([\n",
        "    tf.keras.layers.Dense(1)\n",
        "])\n",
        "#Compile\n",
        "model_1.compile(loss=tf.keras.losses.mae,\n",
        "                 optimizer=tf.keras.optimizers.Adam(learning_rate=0.01),\n",
        "                 metrics=[\"mae\"])\n",
        "#Fit\n",
        "model_1.fit(tf.expand_dims(X_train,axis=-1),y_train,epochs=100,verbose=0)\n",
        "\n",
        "y_pred1=model_1.predict(X_test)\n",
        "y_pred1=tf.squeeze(tf.constant(y_pred1[:,0]))"
      ],
      "metadata": {
        "colab": {
          "base_uri": "https://localhost:8080/"
        },
        "id": "VfD89jgZ2pJ_",
        "outputId": "753a8572-67c6-465a-a576-49c82fa3dc73"
      },
      "execution_count": 105,
      "outputs": [
        {
          "output_type": "stream",
          "name": "stdout",
          "text": [
            "4/4 [==============================] - 0s 3ms/step\n"
          ]
        }
      ]
    },
    {
      "cell_type": "code",
      "source": [
        "#Plot\n",
        "Plot(X_train,y_train,X_test,y_test,y_pred1)"
      ],
      "metadata": {
        "colab": {
          "base_uri": "https://localhost:8080/",
          "height": 0
        },
        "id": "cThUv3AUBDtk",
        "outputId": "82f5f36b-f2d4-45de-94c9-77815873f2a5"
      },
      "execution_count": 106,
      "outputs": [
        {
          "output_type": "display_data",
          "data": {
            "text/plain": [
              "<Figure size 1080x576 with 1 Axes>"
            ],
            "image/png": "[encoded data removed]"
          },
          "metadata": {
            "needs_background": "light"
          }
        }
      ]
    },
    {
      "cell_type": "code",
      "source": [
        "eval1=evaluation(y_test,y_pred1)\n",
        "print(eval1)\n",
        "Eva.append(eval1)"
      ],
      "metadata": {
        "colab": {
          "base_uri": "https://localhost:8080/"
        },
        "id": "CnhDmtyR3LtY",
        "outputId": "d4763b6d-b5fa-48dd-b3ed-8a64451d8c12"
      },
      "execution_count": 107,
      "outputs": [
        {
          "output_type": "stream",
          "name": "stdout",
          "text": [
            "[ 15.769123 252.32066 ]\n"
          ]
        }
      ]
    },
    {
      "cell_type": "markdown",
      "source": [
        "# Model_2"
      ],
      "metadata": {
        "id": "GiGA1GNVEC4J"
      }
    },
    {
      "cell_type": "code",
      "source": [
        "#Model2\n",
        "#Creating a model\n",
        "model_2=tf.keras.Sequential([\n",
        "    tf.keras.layers.Dense(1)\n",
        "])\n",
        "#Compile\n",
        "model_2.compile(loss=tf.keras.losses.mae,\n",
        "                 optimizer=tf.keras.optimizers.Adam(learning_rate=0.01),\n",
        "                 metrics=[\"mae\"])\n",
        "#Fit\n",
        "model_2.fit(tf.expand_dims(X_train,axis=-1),y_train,epochs=500,verbose=0)\n",
        "\n",
        "y_pred2=model_2.predict(X_test)\n",
        "y_pred2=tf.squeeze(tf.constant(y_pred2[:,0]))"
      ],
      "metadata": {
        "colab": {
          "base_uri": "https://localhost:8080/"
        },
        "id": "7T6sCFqECMSX",
        "outputId": "86c6bef4-98ac-4046-a1c2-39576842d02a"
      },
      "execution_count": 108,
      "outputs": [
        {
          "output_type": "stream",
          "name": "stdout",
          "text": [
            "4/4 [==============================] - 0s 3ms/step\n"
          ]
        }
      ]
    },
    {
      "cell_type": "code",
      "source": [
        "#Plot\n",
        "Plot(X_train,y_train,X_test,y_test,y_pred2)"
      ],
      "metadata": {
        "colab": {
          "base_uri": "https://localhost:8080/",
          "height": 483
        },
        "outputId": "e9f7bb6b-33bd-453a-e127-36fca4d54dca",
        "id": "BsZvnVPUENyw"
      },
      "execution_count": 109,
      "outputs": [
        {
          "output_type": "display_data",
          "data": {
            "text/plain": [
              "<Figure size 1080x576 with 1 Axes>"
            ],
            "image/png": "[encoded data removed]"
          },
          "metadata": {
            "needs_background": "light"
          }
        }
      ]
    },
    {
      "cell_type": "code",
      "source": [
        "eval2=evaluation(y_test,y_pred2)\n",
        "print(eval2)\n",
        "Eva.append(eval2)"
      ],
      "metadata": {
        "colab": {
          "base_uri": "https://localhost:8080/"
        },
        "outputId": "bdc911ef-ac9b-4281-fcd2-c5d7c64f59cd",
        "id": "Z0yAWYkyENyw"
      },
      "execution_count": 110,
      "outputs": [
        {
          "output_type": "stream",
          "name": "stdout",
          "text": [
            "[1.2826337 1.7462842]\n"
          ]
        }
      ]
    },
    {
      "cell_type": "markdown",
      "source": [
        "# Model_3"
      ],
      "metadata": {
        "id": "d63HDiQoK9cE"
      }
    },
    {
      "cell_type": "code",
      "source": [
        "#Model3\n",
        "#Creating a model\n",
        "model_3=tf.keras.Sequential([\n",
        "    tf.keras.layers.Dense(100)\n",
        "])\n",
        "#Compile\n",
        "model_3.compile(loss=tf.keras.losses.mae,\n",
        "                 optimizer=tf.keras.optimizers.Adam(learning_rate=0.01),\n",
        "                 metrics=[\"mae\"])\n",
        "#Fit\n",
        "model_3.fit(tf.expand_dims(X_train,axis=-1),y_train,epochs=100,verbose=0)\n",
        "\n",
        "y_pred3=model_3.predict(X_test)\n",
        "y_pred3=tf.squeeze(tf.constant(y_pred3[:,0]))"
      ],
      "metadata": {
        "colab": {
          "base_uri": "https://localhost:8080/"
        },
        "outputId": "6a4016a2-79dc-4f2a-98fe-c872f3d1fb73",
        "id": "odv3ddUeK5ao"
      },
      "execution_count": 111,
      "outputs": [
        {
          "output_type": "stream",
          "name": "stdout",
          "text": [
            "4/4 [==============================] - 0s 3ms/step\n"
          ]
        }
      ]
    },
    {
      "cell_type": "code",
      "source": [
        "#Plot\n",
        "Plot(X_train,y_train,X_test,y_test,y_pred3)"
      ],
      "metadata": {
        "colab": {
          "base_uri": "https://localhost:8080/",
          "height": 483
        },
        "outputId": "a9181798-35b0-4cca-fde7-e1024cc5a8d0",
        "id": "ThzfNMpdK5ap"
      },
      "execution_count": 112,
      "outputs": [
        {
          "output_type": "display_data",
          "data": {
            "text/plain": [
              "<Figure size 1080x576 with 1 Axes>"
            ],
            "image/png": "[encoded data removed]"
          },
          "metadata": {
            "needs_background": "light"
          }
        }
      ]
    },
    {
      "cell_type": "code",
      "source": [
        "eval3=evaluation(y_test,y_pred3)\n",
        "print(eval3)\n",
        "Eva.append(eval3)"
      ],
      "metadata": {
        "colab": {
          "base_uri": "https://localhost:8080/"
        },
        "outputId": "8216f81d-701b-46cf-d117-469cd5907d7a",
        "id": "39bxI1FPK5ap"
      },
      "execution_count": 113,
      "outputs": [
        {
          "output_type": "stream",
          "name": "stdout",
          "text": [
            "[ 15.727722 251.19322 ]\n"
          ]
        }
      ]
    },
    {
      "cell_type": "markdown",
      "source": [
        "# Model_4"
      ],
      "metadata": {
        "id": "4vuAR78HNdaT"
      }
    },
    {
      "cell_type": "code",
      "source": [
        "#Model4\n",
        "#Creating a model\n",
        "model_4=tf.keras.Sequential([\n",
        "    tf.keras.layers.Dense(100)\n",
        "])\n",
        "#Compile\n",
        "model_4.compile(loss=tf.keras.losses.mae,\n",
        "                 optimizer=tf.keras.optimizers.Adam(learning_rate=0.01),\n",
        "                 metrics=[\"mae\"])\n",
        "#Fit\n",
        "model_4.fit(tf.expand_dims(X_train,axis=-1),y_train,epochs=500,verbose=0)\n",
        "\n",
        "y_pred4=model_4.predict(X_test)\n",
        "y_pred4=tf.squeeze(tf.constant(y_pred4[:,0]))"
      ],
      "metadata": {
        "colab": {
          "base_uri": "https://localhost:8080/"
        },
        "outputId": "43d55e57-d56a-419c-b956-bcadc24c6c87",
        "id": "SitBsbKaNdab"
      },
      "execution_count": 114,
      "outputs": [
        {
          "output_type": "stream",
          "name": "stdout",
          "text": [
            "4/4 [==============================] - 0s 2ms/step\n"
          ]
        }
      ]
    },
    {
      "cell_type": "code",
      "source": [
        "eval4=evaluation(y_test,y_pred4)\n",
        "print(eval4)\n",
        "Eva.append(eval4)"
      ],
      "metadata": {
        "colab": {
          "base_uri": "https://localhost:8080/"
        },
        "outputId": "43b1de47-ec2f-4bb7-9220-3aed1c16afb5",
        "id": "Pf9kca-mNdab"
      },
      "execution_count": 115,
      "outputs": [
        {
          "output_type": "stream",
          "name": "stdout",
          "text": [
            "[1.5491315 2.548084 ]\n"
          ]
        }
      ]
    },
    {
      "cell_type": "code",
      "source": [
        "#Plot\n",
        "Plot(X_train,y_train,X_test,y_test,y_pred4)"
      ],
      "metadata": {
        "colab": {
          "base_uri": "https://localhost:8080/",
          "height": 483
        },
        "outputId": "e08e94a2-1e05-4b1a-fe8f-f9c7625619b3",
        "id": "SblgVJxXNdab"
      },
      "execution_count": 116,
      "outputs": [
        {
          "output_type": "display_data",
          "data": {
            "text/plain": [
              "<Figure size 1080x576 with 1 Axes>"
            ],
            "image/png": "[encoded data removed]"
          },
          "metadata": {
            "needs_background": "light"
          }
        }
      ]
    },
    {
      "cell_type": "markdown",
      "source": [
        "# Model_5"
      ],
      "metadata": {
        "id": "DXucYdqN2YB7"
      }
    },
    {
      "cell_type": "code",
      "source": [
        "#Model5\n",
        "#Creating a model\n",
        "model_5=tf.keras.Sequential([\n",
        "    tf.keras.layers.Dense(10),\n",
        "    tf.keras.layers.Dense(100)\n",
        "])\n",
        "#Compile\n",
        "model_5.compile(loss=tf.keras.losses.mae,\n",
        "                 optimizer=tf.keras.optimizers.Adam(learning_rate=0.01),\n",
        "                 metrics=[\"mae\"])\n",
        "#Fit\n",
        "model_5.fit(tf.expand_dims(X_train,axis=-1),y_train,epochs=100,verbose=0)\n",
        "\n",
        "y_pred5=model_5.predict(X_test)\n",
        "y_pred5=tf.squeeze(tf.constant(y_pred5[:,0]))"
      ],
      "metadata": {
        "colab": {
          "base_uri": "https://localhost:8080/"
        },
        "outputId": "e5d228f7-af7f-4394-f99b-67dff7b057b5",
        "id": "REHga3cM2YCM"
      },
      "execution_count": 117,
      "outputs": [
        {
          "output_type": "stream",
          "name": "stdout",
          "text": [
            "4/4 [==============================] - 0s 3ms/step\n"
          ]
        }
      ]
    },
    {
      "cell_type": "code",
      "source": [
        "#Plot\n",
        "Plot(X_train,y_train,X_test,y_test,y_pred3)"
      ],
      "metadata": {
        "colab": {
          "base_uri": "https://localhost:8080/",
          "height": 483
        },
        "outputId": "06784820-306e-4ec2-fa54-5e6d8cbe9e8a",
        "id": "64hes0rf2YCN"
      },
      "execution_count": 118,
      "outputs": [
        {
          "output_type": "display_data",
          "data": {
            "text/plain": [
              "<Figure size 1080x576 with 1 Axes>"
            ],
            "image/png": "[encoded data removed]"
          },
          "metadata": {
            "needs_background": "light"
          }
        }
      ]
    },
    {
      "cell_type": "code",
      "source": [
        "eval5=evaluation(y_test,y_pred5)\n",
        "print(eval5)\n",
        "Eva.append(eval5)"
      ],
      "metadata": {
        "colab": {
          "base_uri": "https://localhost:8080/"
        },
        "outputId": "01f71641-b03d-4a0b-9e56-e792de91d13d",
        "id": "WbbC7ZlQ2YCP"
      },
      "execution_count": 119,
      "outputs": [
        {
          "output_type": "stream",
          "name": "stdout",
          "text": [
            "[0.76571476 0.6178482 ]\n"
          ]
        }
      ]
    },
    {
      "cell_type": "markdown",
      "source": [
        "# Table"
      ],
      "metadata": {
        "id": "0kG0tr8IKrJB"
      }
    },
    {
      "cell_type": "code",
      "source": [
        "import pandas as pd\n",
        "print(Eva)\n",
        "pd.DataFrame(Eva)"
      ],
      "metadata": {
        "colab": {
          "base_uri": "https://localhost:8080/",
          "height": 306
        },
        "id": "Ix2VCoDdEoxg",
        "outputId": "724a2813-5d7a-44e5-a13e-cbd30a5b0002"
      },
      "execution_count": 120,
      "outputs": [
        {
          "output_type": "stream",
          "name": "stdout",
          "text": [
            "[['MAE', 'MSE'], array([1.5966985e+03, 2.7037600e+06], dtype=float32), array([ 15.769123, 252.32066 ], dtype=float32), array([1.2826337, 1.7462842], dtype=float32), array([ 15.727722, 251.19322 ], dtype=float32), array([1.5491315, 2.548084 ], dtype=float32), array([0.76571476, 0.6178482 ], dtype=float32)]\n"
          ]
        },
        {
          "output_type": "execute_result",
          "data": {
            "text/plain": [
              "             0           1\n",
              "0          MAE         MSE\n",
              "1  1596.698486   2703760.0\n",
              "2    15.769123  252.320663\n",
              "3     1.282634    1.746284\n",
              "4    15.727722  251.193222\n",
              "5     1.549132    2.548084\n",
              "6     0.765715    0.617848"
            ],
            "text/html": [
              "\n",
              "  <div id=\"df-7b3ee37e-cbe5-43c5-8ade-8b470982cb42\">\n",
              "    <div class=\"colab-df-container\">\n",
              "      <div>\n",
              "<style scoped>\n",
              "    .dataframe tbody tr th:only-of-type {\n",
              "        vertical-align: middle;\n",
              "    }\n",
              "\n",
              "    .dataframe tbody tr th {\n",
              "        vertical-align: top;\n",
              "    }\n",
              "\n",
              "    .dataframe thead th {\n",
              "        text-align: right;\n",
              "    }\n",
              "</style>\n",
              "<table border=\"1\" class=\"dataframe\">\n",
              "  <thead>\n",
              "    <tr style=\"text-align: right;\">\n",
              "      <th></th>\n",
              "      <th>0</th>\n",
              "      <th>1</th>\n",
              "    </tr>\n",
              "  </thead>\n",
              "  <tbody>\n",
              "    <tr>\n",
              "      <th>0</th>\n",
              "      <td>MAE</td>\n",
              "      <td>MSE</td>\n",
              "    </tr>\n",
              "    <tr>\n",
              "      <th>1</th>\n",
              "      <td>1596.698486</td>\n",
              "      <td>2703760.0</td>\n",
              "    </tr>\n",
              "    <tr>\n",
              "      <th>2</th>\n",
              "      <td>15.769123</td>\n",
              "      <td>252.320663</td>\n",
              "    </tr>\n",
              "    <tr>\n",
              "      <th>3</th>\n",
              "      <td>1.282634</td>\n",
              "      <td>1.746284</td>\n",
              "    </tr>\n",
              "    <tr>\n",
              "      <th>4</th>\n",
              "      <td>15.727722</td>\n",
              "      <td>251.193222</td>\n",
              "    </tr>\n",
              "    <tr>\n",
              "      <th>5</th>\n",
              "      <td>1.549132</td>\n",
              "      <td>2.548084</td>\n",
              "    </tr>\n",
              "    <tr>\n",
              "      <th>6</th>\n",
              "      <td>0.765715</td>\n",
              "      <td>0.617848</td>\n",
              "    </tr>\n",
              "  </tbody>\n",
              "</table>\n",
              "</div>\n",
              "      <button class=\"colab-df-convert\" onclick=\"convertToInteractive('df-7b3ee37e-cbe5-43c5-8ade-8b470982cb42')\"\n",
              "              title=\"Convert this dataframe to an interactive table.\"\n",
              "              style=\"display:none;\">\n",
              "        \n",
              "  <svg xmlns=\"http://www.w3.org/2000/svg\" height=\"24px\"viewBox=\"0 0 24 24\"\n",
              "       width=\"24px\">\n",
              "    <path d=\"M0 0h24v24H0V0z\" fill=\"none\"/>\n",
              "    <path d=\"M18.56 5.44l.94 2.06.94-2.06 2.06-.94-2.06-.94-.94-2.06-.94 2.06-2.06.94zm-11 1L8.5 8.5l.94-2.06 2.06-.94-2.06-.94L8.5 2.5l-.94 2.06-2.06.94zm10 10l.94 2.06.94-2.06 2.06-.94-2.06-.94-.94-2.06-.94 2.06-2.06.94z\"/><path d=\"M17.41 7.96l-1.37-1.37c-.4-.4-.92-.59-1.43-.59-.52 0-1.04.2-1.43.59L10.3 9.45l-7.72 7.72c-.78.78-.78 2.05 0 2.83L4 21.41c.39.39.9.59 1.41.59.51 0 1.02-.2 1.41-.59l7.78-7.78 2.81-2.81c.8-.78.8-2.07 0-2.86zM5.41 20L4 18.59l7.72-7.72 1.47 1.35L5.41 20z\"/>\n",
              "  </svg>\n",
              "      </button>\n",
              "      \n",
              "  <style>\n",
              "    .colab-df-container {\n",
              "      display:flex;\n",
              "      flex-wrap:wrap;\n",
              "      gap: 12px;\n",
              "    }\n",
              "\n",
              "    .colab-df-convert {\n",
              "      background-color: #E8F0FE;\n",
              "      border: none;\n",
              "      border-radius: 50%;\n",
              "      cursor: pointer;\n",
              "      display: none;\n",
              "      fill: #1967D2;\n",
              "      height: 32px;\n",
              "      padding: 0 0 0 0;\n",
              "      width: 32px;\n",
              "    }\n",
              "\n",
              "    .colab-df-convert:hover {\n",
              "      background-color: #E2EBFA;\n",
              "      box-shadow: 0px 1px 2px rgba(60, 64, 67, 0.3), 0px 1px 3px 1px rgba(60, 64, 67, 0.15);\n",
              "      fill: #174EA6;\n",
              "    }\n",
              "\n",
              "    [theme=dark] .colab-df-convert {\n",
              "      background-color: #3B4455;\n",
              "      fill: #D2E3FC;\n",
              "    }\n",
              "\n",
              "    [theme=dark] .colab-df-convert:hover {\n",
              "      background-color: #434B5C;\n",
              "      box-shadow: 0px 1px 3px 1px rgba(0, 0, 0, 0.15);\n",
              "      filter: drop-shadow(0px 1px 2px rgba(0, 0, 0, 0.3));\n",
              "      fill: #FFFFFF;\n",
              "    }\n",
              "  </style>\n",
              "\n",
              "      <script>\n",
              "        const buttonEl =\n",
              "          document.querySelector('#df-7b3ee37e-cbe5-43c5-8ade-8b470982cb42 button.colab-df-convert');\n",
              "        buttonEl.style.display =\n",
              "          google.colab.kernel.accessAllowed ? 'block' : 'none';\n",
              "\n",
              "        async function convertToInteractive(key) {\n",
              "          const element = document.querySelector('#df-7b3ee37e-cbe5-43c5-8ade-8b470982cb42');\n",
              "          const dataTable =\n",
              "            await google.colab.kernel.invokeFunction('convertToInteractive',\n",
              "                                                     [key], {});\n",
              "          if (!dataTable) return;\n",
              "\n",
              "          const docLinkHtml = 'Like what you see? Visit the ' +\n",
              "            '<a target=\"_blank\" href=https://colab.research.google.com/notebooks/data_table.ipynb>data table notebook</a>'\n",
              "            + ' to learn more about interactive tables.';\n",
              "          element.innerHTML = '';\n",
              "          dataTable['output_type'] = 'display_data';\n",
              "          await google.colab.output.renderOutput(dataTable, element);\n",
              "          const docLink = document.createElement('div');\n",
              "          docLink.innerHTML = docLinkHtml;\n",
              "          element.appendChild(docLink);\n",
              "        }\n",
              "      </script>\n",
              "    </div>\n",
              "  </div>\n",
              "  "
            ]
          },
          "metadata": {},
          "execution_count": 120
        }
      ]
    },
    {
      "cell_type": "code",
      "source": [
        "#Save Model\n",
        "model_5.save('/content/drive/MyDrive/Models/First/Best_HDF5_Format.h5')\n",
        "model_5.save('/content/drive/MyDrive/Models/First/Best_SavedModel_Format')\n",
        "loadedS = tf.keras.models.load_model(\"/content/drive/MyDrive/Models/First/Best_SavedModel_Format\")\n",
        "loadedS.summary()"
      ],
      "metadata": {
        "id": "tYz2Z3mscatk",
        "colab": {
          "base_uri": "https://localhost:8080/"
        },
        "outputId": "abf23275-0c97-49ce-8958-25da77b604e1"
      },
      "execution_count": 121,
      "outputs": [
        {
          "output_type": "stream",
          "name": "stderr",
          "text": [
            "WARNING:absl:Found untraced functions such as _update_step_xla while saving (showing 1 of 1). These functions will not be directly callable after loading.\n"
          ]
        },
        {
          "output_type": "stream",
          "name": "stdout",
          "text": [
            "Model: \"sequential_26\"\n",
            "_________________________________________________________________\n",
            " Layer (type)                Output Shape              Param #   \n",
            "=================================================================\n",
            " dense_28 (Dense)            (None, 10)                20        \n",
            "                                                                 \n",
            " dense_29 (Dense)            (None, 100)               1100      \n",
            "                                                                 \n",
            "=================================================================\n",
            "Total params: 1,120\n",
            "Trainable params: 1,120\n",
            "Non-trainable params: 0\n",
            "_________________________________________________________________\n"
          ]
        }
      ]
    },
    {
      "cell_type": "code",
      "source": [
        "# # Download the model (or any file) from Google Colab(File in Drive)\n",
        "# from google.colab import files\n",
        "# files.download(\"/content/drive/MyDrive/Models/First/Best_SavedModel_Format\")"
      ],
      "metadata": {
        "id": "yhS0Qg5wjobe"
      },
      "execution_count": 122,
      "outputs": []
    }
  ]
}