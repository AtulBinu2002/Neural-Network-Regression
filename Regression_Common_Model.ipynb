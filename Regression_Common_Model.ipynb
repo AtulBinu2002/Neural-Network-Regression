{
  "nbformat": 4,
  "nbformat_minor": 0,
  "metadata": {
    "colab": {
      "provenance": [],
      "collapsed_sections": [
        "IVVhg8VGCZw_"
      ]
    },
    "kernelspec": {
      "name": "python3",
      "display_name": "Python 3"
    },
    "language_info": {
      "name": "python"
    }
  },
  "cells": [
    {
      "cell_type": "markdown",
      "source": [
        "# **Problems:**\n",
        "1.   Cannot return model variable in function(error), so cannot make the model accessible outside the function. \n",
        "2.   The value of MSE and MAE is not constant for same model parameters(not sure if its seed problem)\n",
        "\n",
        "\n"
      ],
      "metadata": {
        "id": "Z1HQ7Ncord74"
      }
    },
    {
      "cell_type": "markdown",
      "source": [
        "# Modules"
      ],
      "metadata": {
        "id": "as-8wsxrslk9"
      }
    },
    {
      "cell_type": "code",
      "source": [
        "import tensorflow as tf\n",
        "import numpy as np\n",
        "import matplotlib.pyplot as plt\n",
        "import pandas as pd\n",
        "from google.colab import drive\n",
        "drive.mount('drive')\n",
        "tf.random.set_seed(42)"
      ],
      "metadata": {
        "id": "pBgbFhS9rq6A",
        "colab": {
          "base_uri": "https://localhost:8080/"
        },
        "outputId": "3e851e4a-5dd5-474c-b226-f0fd4c6c3f05"
      },
      "execution_count": 192,
      "outputs": [
        {
          "output_type": "stream",
          "name": "stdout",
          "text": [
            "Drive already mounted at drive; to attempt to forcibly remount, call drive.mount(\"drive\", force_remount=True).\n"
          ]
        }
      ]
    },
    {
      "cell_type": "markdown",
      "source": [
        "#**Regression in 1 function(for N-Models)**"
      ],
      "metadata": {
        "id": "_MwnWdCDCIzK"
      }
    },
    {
      "cell_type": "markdown",
      "source": [
        "#Data"
      ],
      "metadata": {
        "id": "IVVhg8VGCZw_"
      }
    },
    {
      "cell_type": "code",
      "source": [
        "#data\n",
        "X=tf.range(-1000,1000,5)\n",
        "y=X+15\n",
        "plt.figure(figsize=(15,8))\n",
        "plt.scatter(X,y)"
      ],
      "metadata": {
        "colab": {
          "base_uri": "https://localhost:8080/",
          "height": 500
        },
        "id": "nfh0YRx0rZL1",
        "outputId": "a8c86f15-7de2-4a5b-bb0e-5e72c5b6e2a7"
      },
      "execution_count": 193,
      "outputs": [
        {
          "output_type": "execute_result",
          "data": {
            "text/plain": [
              "<matplotlib.collections.PathCollection at 0x7fd9a81a3910>"
            ]
          },
          "metadata": {},
          "execution_count": 193
        },
        {
          "output_type": "display_data",
          "data": {
            "text/plain": [
              "<Figure size 1080x576 with 1 Axes>"
            ],
            "image/png": "[encoded data removed]"
          },
          "metadata": {
            "needs_background": "light"
          }
        }
      ]
    },
    {
      "cell_type": "code",
      "source": [
        "#3sets\n",
        "print(len(X))\n",
        "X_train=X[:280]\n",
        "X_test=X[280:]\n",
        "\n",
        "y_train=y[:280]\n",
        "y_test=y[280:]"
      ],
      "metadata": {
        "colab": {
          "base_uri": "https://localhost:8080/"
        },
        "id": "kQRfXjPFs7mj",
        "outputId": "7cfa4cbe-486b-49fe-f917-c878209e70bd"
      },
      "execution_count": 194,
      "outputs": [
        {
          "output_type": "stream",
          "name": "stdout",
          "text": [
            "400\n"
          ]
        }
      ]
    },
    {
      "cell_type": "code",
      "source": [
        "plt.figure(figsize=(15,8))\n",
        "plt.scatter(X_train,y_train,c=\"g\",label=\"train\")\n",
        "plt.scatter(X_test,y_test, c=\"b\",label=\"test\")\n",
        "plt.legend()"
      ],
      "metadata": {
        "colab": {
          "base_uri": "https://localhost:8080/",
          "height": 500
        },
        "id": "vM1xlgFcuQQr",
        "outputId": "dd791a95-d0cf-441e-bac0-1f7ef9bf9073"
      },
      "execution_count": 195,
      "outputs": [
        {
          "output_type": "execute_result",
          "data": {
            "text/plain": [
              "<matplotlib.legend.Legend at 0x7fd9a84ecfd0>"
            ]
          },
          "metadata": {},
          "execution_count": 195
        },
        {
          "output_type": "display_data",
          "data": {
            "text/plain": [
              "<Figure size 1080x576 with 1 Axes>"
            ],
            "image/png": "[encoded data removed]"
          },
          "metadata": {
            "needs_background": "light"
          }
        }
      ]
    },
    {
      "cell_type": "markdown",
      "source": [
        "# Functions"
      ],
      "metadata": {
        "id": "JfiVvH8rCtH-"
      }
    },
    {
      "cell_type": "code",
      "source": [
        "#Plot\n",
        "def Plot(X_train,y_train,X_test,y_test,y_pred): \n",
        "  plt.figure(figsize=(15,8))\n",
        "  plt.scatter(X_train,y_train,c=\"g\",label=\"train\")\n",
        "  plt.scatter(X_test,y_test, c=\"b\",label=\"test\")\n",
        "  plt.scatter(X_test,y_pred, c=\"r\",label=\"Prediction\")\n",
        "  plt.legend();"
      ],
      "metadata": {
        "id": "m8oOaqOl9vUa"
      },
      "execution_count": 196,
      "outputs": []
    },
    {
      "cell_type": "code",
      "source": [
        "Eval=[[\"Neural No\",\"Epochs\",\"Mae\",\"Mse\"]]\n",
        "#Evaluation\n",
        "def evaluation(l,e,y_test,y_pred):\n",
        "  mae = tf.metrics.mean_absolute_error(y_true=y_test, \n",
        "                                     y_pred=y_pred)\n",
        "  mse = tf.metrics.mean_squared_error(y_true=y_test,\n",
        "                                    y_pred=y_pred)\n",
        "  l= ' '.join(map(str, l))\n",
        "  return(list([l,e,mae.numpy(),mse.numpy()]))"
      ],
      "metadata": {
        "id": "JM2D2qP7As_0"
      },
      "execution_count": 197,
      "outputs": []
    },
    {
      "cell_type": "code",
      "source": [
        "def NN(l,e):\n",
        "  tf.random.set_seed(42)\n",
        "#Neural Network\n",
        "  model = tf.keras.Sequential()\n",
        "#Create\n",
        "  model.add(tf.keras.layers.Dense(1, input_shape=(1,)))\n",
        "  for i in range(len(l)):\n",
        "    model.add(tf.keras.layers.Dense(l[i]))\n",
        "#Compile\n",
        "  model.compile(loss=tf.keras.losses.mse,\n",
        "                        optimizer=tf.keras.optimizers.Adam(learning_rate=0.001),\n",
        "                        metrics=[\"mse\"])\n",
        "#Fit\n",
        "  history=model.fit(X_train,y_train,epochs=e,verbose=0)\n",
        "\n",
        "#Prediction\n",
        "  y_pred=model.predict(X_test)\n",
        "  y_pred=tf.squeeze(tf.constant(y_pred[:,0]))\n",
        "\n",
        "  eval=evaluation(l,e,y_test,y_pred)\n",
        "  Eval.append(eval)\n",
        "\n",
        "  pd.DataFrame(history.history).plot()\n",
        "  plt.ylabel(\"loss\")\n",
        "  plt.xlabel(\"epochs\")\n",
        "  model.summary()\n",
        "  print(tf.squeeze(model.predict([100000]))[0])"
      ],
      "metadata": {
        "id": "tXtvvireKTdH"
      },
      "execution_count": 223,
      "outputs": []
    },
    {
      "cell_type": "markdown",
      "source": [
        "# Neural Network Function\n",
        "Constants:\n",
        "  1. Adam Optimizer(lr=0.01)\n",
        "  2. Activation function for each layer"
      ],
      "metadata": {
        "id": "xWWpNikPCzZn"
      }
    },
    {
      "cell_type": "code",
      "source": [
        "#Click and Add more values to \n",
        "tf.random.set_seed(42)\n",
        "No=[100,50,2]\n",
        "epoch=500\n",
        "NN(No,epoch)\n",
        "pd.DataFrame(Eval)"
      ],
      "metadata": {
        "id": "j43Q9_5aG18j",
        "colab": {
          "base_uri": "https://localhost:8080/",
          "height": 815
        },
        "outputId": "1e00252f-09b9-4777-d5e0-980edd63fc31"
      },
      "execution_count": 230,
      "outputs": [
        {
          "output_type": "stream",
          "name": "stdout",
          "text": [
            "4/4 [==============================] - 0s 4ms/step\n",
            "Model: \"sequential_130\"\n",
            "_________________________________________________________________\n",
            " Layer (type)                Output Shape              Param #   \n",
            "=================================================================\n",
            " dense_374 (Dense)           (None, 1)                 2         \n",
            "                                                                 \n",
            " dense_375 (Dense)           (None, 100)               200       \n",
            "                                                                 \n",
            " dense_376 (Dense)           (None, 50)                5050      \n",
            "                                                                 \n",
            " dense_377 (Dense)           (None, 2)                 102       \n",
            "                                                                 \n",
            "=================================================================\n",
            "Total params: 5,354\n",
            "Trainable params: 5,354\n",
            "Non-trainable params: 0\n",
            "_________________________________________________________________\n",
            "1/1 [==============================] - 0s 123ms/step\n",
            "tf.Tensor(100015.73, shape=(), dtype=float32)\n"
          ]
        },
        {
          "output_type": "execute_result",
          "data": {
            "text/plain": [
              "           0       1          2           3\n",
              "0  Neural No  Epochs        Mae         Mse\n",
              "1        100     350  26.241365  697.360779\n",
              "2     100 50     100  25.233175  644.997009\n",
              "3   100 50 2     100  20.934969  443.410339\n",
              "4   100 50 2     500   0.005049    0.000027"
            ],
            "text/html": [
              "\n",
              "  <div id=\"df-bd960a21-a8e4-43a0-9df3-401eb70751c9\">\n",
              "    <div class=\"colab-df-container\">\n",
              "      <div>\n",
              "<style scoped>\n",
              "    .dataframe tbody tr th:only-of-type {\n",
              "        vertical-align: middle;\n",
              "    }\n",
              "\n",
              "    .dataframe tbody tr th {\n",
              "        vertical-align: top;\n",
              "    }\n",
              "\n",
              "    .dataframe thead th {\n",
              "        text-align: right;\n",
              "    }\n",
              "</style>\n",
              "<table border=\"1\" class=\"dataframe\">\n",
              "  <thead>\n",
              "    <tr style=\"text-align: right;\">\n",
              "      <th></th>\n",
              "      <th>0</th>\n",
              "      <th>1</th>\n",
              "      <th>2</th>\n",
              "      <th>3</th>\n",
              "    </tr>\n",
              "  </thead>\n",
              "  <tbody>\n",
              "    <tr>\n",
              "      <th>0</th>\n",
              "      <td>Neural No</td>\n",
              "      <td>Epochs</td>\n",
              "      <td>Mae</td>\n",
              "      <td>Mse</td>\n",
              "    </tr>\n",
              "    <tr>\n",
              "      <th>1</th>\n",
              "      <td>100</td>\n",
              "      <td>350</td>\n",
              "      <td>26.241365</td>\n",
              "      <td>697.360779</td>\n",
              "    </tr>\n",
              "    <tr>\n",
              "      <th>2</th>\n",
              "      <td>100 50</td>\n",
              "      <td>100</td>\n",
              "      <td>25.233175</td>\n",
              "      <td>644.997009</td>\n",
              "    </tr>\n",
              "    <tr>\n",
              "      <th>3</th>\n",
              "      <td>100 50 2</td>\n",
              "      <td>100</td>\n",
              "      <td>20.934969</td>\n",
              "      <td>443.410339</td>\n",
              "    </tr>\n",
              "    <tr>\n",
              "      <th>4</th>\n",
              "      <td>100 50 2</td>\n",
              "      <td>500</td>\n",
              "      <td>0.005049</td>\n",
              "      <td>0.000027</td>\n",
              "    </tr>\n",
              "  </tbody>\n",
              "</table>\n",
              "</div>\n",
              "      <button class=\"colab-df-convert\" onclick=\"convertToInteractive('df-bd960a21-a8e4-43a0-9df3-401eb70751c9')\"\n",
              "              title=\"Convert this dataframe to an interactive table.\"\n",
              "              style=\"display:none;\">\n",
              "        \n",
              "  <svg xmlns=\"http://www.w3.org/2000/svg\" height=\"24px\"viewBox=\"0 0 24 24\"\n",
              "       width=\"24px\">\n",
              "    <path d=\"M0 0h24v24H0V0z\" fill=\"none\"/>\n",
              "    <path d=\"M18.56 5.44l.94 2.06.94-2.06 2.06-.94-2.06-.94-.94-2.06-.94 2.06-2.06.94zm-11 1L8.5 8.5l.94-2.06 2.06-.94-2.06-.94L8.5 2.5l-.94 2.06-2.06.94zm10 10l.94 2.06.94-2.06 2.06-.94-2.06-.94-.94-2.06-.94 2.06-2.06.94z\"/><path d=\"M17.41 7.96l-1.37-1.37c-.4-.4-.92-.59-1.43-.59-.52 0-1.04.2-1.43.59L10.3 9.45l-7.72 7.72c-.78.78-.78 2.05 0 2.83L4 21.41c.39.39.9.59 1.41.59.51 0 1.02-.2 1.41-.59l7.78-7.78 2.81-2.81c.8-.78.8-2.07 0-2.86zM5.41 20L4 18.59l7.72-7.72 1.47 1.35L5.41 20z\"/>\n",
              "  </svg>\n",
              "      </button>\n",
              "      \n",
              "  <style>\n",
              "    .colab-df-container {\n",
              "      display:flex;\n",
              "      flex-wrap:wrap;\n",
              "      gap: 12px;\n",
              "    }\n",
              "\n",
              "    .colab-df-convert {\n",
              "      background-color: #E8F0FE;\n",
              "      border: none;\n",
              "      border-radius: 50%;\n",
              "      cursor: pointer;\n",
              "      display: none;\n",
              "      fill: #1967D2;\n",
              "      height: 32px;\n",
              "      padding: 0 0 0 0;\n",
              "      width: 32px;\n",
              "    }\n",
              "\n",
              "    .colab-df-convert:hover {\n",
              "      background-color: #E2EBFA;\n",
              "      box-shadow: 0px 1px 2px rgba(60, 64, 67, 0.3), 0px 1px 3px 1px rgba(60, 64, 67, 0.15);\n",
              "      fill: #174EA6;\n",
              "    }\n",
              "\n",
              "    [theme=dark] .colab-df-convert {\n",
              "      background-color: #3B4455;\n",
              "      fill: #D2E3FC;\n",
              "    }\n",
              "\n",
              "    [theme=dark] .colab-df-convert:hover {\n",
              "      background-color: #434B5C;\n",
              "      box-shadow: 0px 1px 3px 1px rgba(0, 0, 0, 0.15);\n",
              "      filter: drop-shadow(0px 1px 2px rgba(0, 0, 0, 0.3));\n",
              "      fill: #FFFFFF;\n",
              "    }\n",
              "  </style>\n",
              "\n",
              "      <script>\n",
              "        const buttonEl =\n",
              "          document.querySelector('#df-bd960a21-a8e4-43a0-9df3-401eb70751c9 button.colab-df-convert');\n",
              "        buttonEl.style.display =\n",
              "          google.colab.kernel.accessAllowed ? 'block' : 'none';\n",
              "\n",
              "        async function convertToInteractive(key) {\n",
              "          const element = document.querySelector('#df-bd960a21-a8e4-43a0-9df3-401eb70751c9');\n",
              "          const dataTable =\n",
              "            await google.colab.kernel.invokeFunction('convertToInteractive',\n",
              "                                                     [key], {});\n",
              "          if (!dataTable) return;\n",
              "\n",
              "          const docLinkHtml = 'Like what you see? Visit the ' +\n",
              "            '<a target=\"_blank\" href=https://colab.research.google.com/notebooks/data_table.ipynb>data table notebook</a>'\n",
              "            + ' to learn more about interactive tables.';\n",
              "          element.innerHTML = '';\n",
              "          dataTable['output_type'] = 'display_data';\n",
              "          await google.colab.output.renderOutput(dataTable, element);\n",
              "          const docLink = document.createElement('div');\n",
              "          docLink.innerHTML = docLinkHtml;\n",
              "          element.appendChild(docLink);\n",
              "        }\n",
              "      </script>\n",
              "    </div>\n",
              "  </div>\n",
              "  "
            ]
          },
          "metadata": {},
          "execution_count": 230
        },
        {
          "output_type": "display_data",
          "data": {
            "text/plain": [
              "<Figure size 432x288 with 1 Axes>"
            ],
            "image/png": "[encoded data removed]"
          },
          "metadata": {
            "needs_background": "light"
          }
        }
      ]
    },
    {
      "cell_type": "markdown",
      "source": [
        "# Delete Previous value"
      ],
      "metadata": {
        "id": "gmhbwMxPRfvV"
      }
    },
    {
      "cell_type": "code",
      "source": [
        "Eval.pop()"
      ],
      "metadata": {
        "colab": {
          "base_uri": "https://localhost:8080/"
        },
        "id": "3uAFxDznRySM",
        "outputId": "f5f32e42-7143-40ae-a232-1bc283af376a"
      },
      "execution_count": 189,
      "outputs": [
        {
          "output_type": "execute_result",
          "data": {
            "text/plain": [
              "['100 10', 100, 14.501217, 212.32494]"
            ]
          },
          "metadata": {},
          "execution_count": 189
        }
      ]
    },
    {
      "cell_type": "markdown",
      "source": [
        "# Clear Table"
      ],
      "metadata": {
        "id": "88V3oxPMK8O-"
      }
    },
    {
      "cell_type": "code",
      "source": [
        "Eval=[[\"Neural No\",\"Epochs\",\"Mae\",\"Mse\"]]"
      ],
      "metadata": {
        "id": "Aie4QK_gK24u"
      },
      "execution_count": 226,
      "outputs": []
    },
    {
      "cell_type": "markdown",
      "source": [
        "#Save"
      ],
      "metadata": {
        "id": "qHKj4nEEjkZ6"
      }
    },
    {
      "cell_type": "code",
      "source": [
        "#Can't do it separately cause model not globally online."
      ],
      "metadata": {
        "colab": {
          "base_uri": "https://localhost:8080/"
        },
        "id": "jFZiYnD0jm95",
        "outputId": "45ff3d90-5f16-4be9-fd2a-a8cbca978161"
      },
      "execution_count": 191,
      "outputs": [
        {
          "output_type": "stream",
          "name": "stdout",
          "text": [
            "1/1 [==============================] - 0s 67ms/step\n",
            "tf.Tensor(1016.17035, shape=(), dtype=float32)\n"
          ]
        }
      ]
    }
  ]
}